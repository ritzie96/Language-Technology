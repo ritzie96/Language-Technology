{
 "cells": [
  {
   "cell_type": "code",
   "execution_count": 1,
   "metadata": {},
   "outputs": [],
   "source": [
    "#  -*- coding: utf-8 -*-\n",
    "from __future__ import unicode_literals\n",
    "import math\n",
    "import argparse\n",
    "import nltk\n",
    "import os\n",
    "from collections import defaultdict\n",
    "import codecs\n",
    "import json\n",
    "import requests"
   ]
  },
  {
   "cell_type": "code",
   "execution_count": 13,
   "metadata": {},
   "outputs": [],
   "source": [
    "def process_files(self, f):\n",
    "\n",
    "    with codecs.open(f, 'r', 'utf-8') as text_file:\n",
    "        text = reader = str(text_file.read()).lower()\n",
    "    try :\n",
    "        self.tokens = nltk.word_tokenize(text) # Important that it is named self.tokens for the --check flag to work\n",
    "    except LookupError :\n",
    "        nltk.download('punkt')\n",
    "        self.tokens = nltk.word_tokenize(text)\n",
    "    for token in self.tokens:\n",
    "        self.process_token(token)"
   ]
  },
  {
   "cell_type": "code",
   "execution_count": 18,
   "metadata": {},
   "outputs": [],
   "source": [
    "def process_token(self, token):\n",
    "    if self.token not in self.index:\n",
    "        self.index[self.token] = self.unique_words\n",
    "        self.word[self.unique_words] = self.token\n",
    "        self.unique_words = self.unique_words + 1\n",
    "    \n",
    "    self.total_words = self.total_words + 1\n",
    "    if self.t \n",
    "    self.unigram_count[self.token] += 1 \n",
    "    print(self.unique_words)\n",
    "    print(self.total_words)\n",
    "    print(self.unigram_count)"
   ]
  },
  {
   "cell_type": "code",
   "execution_count": null,
   "metadata": {},
   "outputs": [],
   "source": [
    "def stats(self):\n",
    "    \"\"\"\n",
    "    Creates a list of rows to print of the language model.\n",
    "\n",
    "    \"\"\"\n",
    "    rows_to_print = []\n",
    "\n",
    "        # YOUR CODE HERE\n",
    "\n",
    "    return rows_to_print\n"
   ]
  },
  {
   "cell_type": "code",
   "execution_count": 17,
   "metadata": {},
   "outputs": [],
   "source": [
    "def __init__(self):\n",
    "        # The mapping from words to identifiers.\n",
    "    self.index = {}\n",
    "\n",
    "    # The mapping from identifiers to words.\n",
    "    self.word = {}\n",
    "\n",
    "    # An array holding the unigram counts.\n",
    "    self.unigram_count = defaultdict(int)\n",
    "\n",
    "    self.bigram_count = defaultdict(lambda: defaultdict(int))\n",
    "\n",
    "        # The identifier of the previous word processed.\n",
    "    self.last_index = -1\n",
    "\n",
    "        # Number of unique words (word forms) in the training corpus.\n",
    "    self.unique_words = 0\n",
    "\n",
    "        # The total number of words in the training corpus.\n",
    "    self.total_words = 0\n",
    "\n",
    "    self.laplace_smoothing = False\n"
   ]
  },
  {
   "cell_type": "code",
   "execution_count": 19,
   "metadata": {},
   "outputs": [
    {
     "ename": "TypeError",
     "evalue": "process_files() missing 1 required positional argument: 'f'",
     "output_type": "error",
     "traceback": [
      "\u001b[1;31m---------------------------------------------------------------------------\u001b[0m",
      "\u001b[1;31mTypeError\u001b[0m                                 Traceback (most recent call last)",
      "\u001b[1;32m<ipython-input-19-503f301d91b9>\u001b[0m in \u001b[0;36m<module>\u001b[1;34m()\u001b[0m\n\u001b[0;32m      1\u001b[0m \u001b[1;31m#bigram_trainer = BigramTrainer()\u001b[0m\u001b[1;33m\u001b[0m\u001b[1;33m\u001b[0m\u001b[0m\n\u001b[1;32m----> 2\u001b[1;33m \u001b[0mprocess_files\u001b[0m\u001b[1;33m(\u001b[0m\u001b[1;34m\"data/small.txt\"\u001b[0m\u001b[1;33m)\u001b[0m\u001b[1;33m\u001b[0m\u001b[0m\n\u001b[0m\u001b[0;32m      3\u001b[0m \u001b[1;31m#results  = bigram_trainer.stats()\u001b[0m\u001b[1;33m\u001b[0m\u001b[1;33m\u001b[0m\u001b[0m\n",
      "\u001b[1;31mTypeError\u001b[0m: process_files() missing 1 required positional argument: 'f'"
     ]
    }
   ],
   "source": [
    "#bigram_trainer = BigramTrainer()\n",
    "process_files(\"data/small.txt\")\n",
    "#results  = bigram_trainer.stats()"
   ]
  },
  {
   "cell_type": "code",
   "execution_count": 2,
   "metadata": {},
   "outputs": [],
   "source": [
    "index = {}"
   ]
  },
  {
   "cell_type": "code",
   "execution_count": 20,
   "metadata": {},
   "outputs": [],
   "source": [
    "import math "
   ]
  },
  {
   "cell_type": "code",
   "execution_count": 26,
   "metadata": {},
   "outputs": [
    {
     "data": {
      "text/plain": [
       "-1.0986123886681147"
      ]
     },
     "execution_count": 26,
     "metadata": {},
     "output_type": "execute_result"
    }
   ],
   "source": [
    "math.log(0.3333333)"
   ]
  },
  {
   "cell_type": "code",
   "execution_count": 2,
   "metadata": {},
   "outputs": [],
   "source": [
    "a = [11, 19]"
   ]
  },
  {
   "cell_type": "code",
   "execution_count": 5,
   "metadata": {},
   "outputs": [
    {
     "data": {
      "text/plain": [
       "[11, 19]"
      ]
     },
     "execution_count": 5,
     "metadata": {},
     "output_type": "execute_result"
    }
   ],
   "source": []
  },
  {
   "cell_type": "code",
   "execution_count": null,
   "metadata": {},
   "outputs": [],
   "source": []
  }
 ],
 "metadata": {
  "kernelspec": {
   "display_name": "Python 3",
   "language": "python",
   "name": "python3"
  },
  "language_info": {
   "codemirror_mode": {
    "name": "ipython",
    "version": 3
   },
   "file_extension": ".py",
   "mimetype": "text/x-python",
   "name": "python",
   "nbconvert_exporter": "python",
   "pygments_lexer": "ipython3",
   "version": "3.6.4"
  }
 },
 "nbformat": 4,
 "nbformat_minor": 2
}
